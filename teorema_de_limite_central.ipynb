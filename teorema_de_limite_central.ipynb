{
 "cells": [
  {
   "cell_type": "markdown",
   "metadata": {},
   "source": [
    "# Teorema de Limite Central"
   ]
  },
  {
   "cell_type": "code",
   "execution_count": 1,
   "metadata": {},
   "outputs": [
    {
     "data": {
      "text/plain": [
       "0.5001945000000001"
      ]
     },
     "execution_count": 1,
     "metadata": {},
     "output_type": "execute_result"
    }
   ],
   "source": [
    "# Importacion de librerias\n",
    "import pandas as pd\n",
    "import numpy as np\n",
    "\n",
    "n = 100 # tamanho de la muestra\n",
    "p = 0.5 \n",
    "nro_rep = 20000 # numero de repeticiones\n",
    "\n",
    "medias = []\n",
    "\n",
    "# Obtiene la media de un \n",
    "# numero \"nro_rep\" de muestras\n",
    "for i in range(nro_rep):\n",
    "    muestra = np.random.binomial(1,p,size=n)\n",
    "    medias.append(muestra.mean())\n",
    "    #print(muestra.mean())\n",
    "\n",
    "# Mostramos el arreglo de medias\n",
    "#mean(medias)\n",
    "np.array(medias).mean()\n"
   ]
  },
  {
   "cell_type": "code",
   "execution_count": 3,
   "metadata": {},
   "outputs": [
    {
     "data": {
      "image/png": "[encoded data removed]",
      "text/plain": [
       "<Figure size 432x288 with 1 Axes>"
      ]
     },
     "metadata": {
      "needs_background": "light"
     },
     "output_type": "display_data"
    }
   ],
   "source": [
    "import matplotlib.pyplot as plt\n",
    "\n",
    "plt.hist(medias)\n",
    "plt.show()"
   ]
  }
 ],
 "metadata": {
  "kernelspec": {
   "display_name": "Python 3",
   "language": "python",
   "name": "python3"
  },
  "language_info": {
   "codemirror_mode": {
    "name": "ipython",
    "version": 3
   },
   "file_extension": ".py",
   "mimetype": "text/x-python",
   "name": "python",
   "nbconvert_exporter": "python",
   "pygments_lexer": "ipython3",
   "version": "3.7.3"
  }
 },
 "nbformat": 4,
 "nbformat_minor": 2
}
