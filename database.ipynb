{
 "cells": [
  {
   "cell_type": "markdown",
   "metadata": {},
   "source": [
    "## Connecting with MySQL"
   ]
  },
  {
   "cell_type": "markdown",
   "metadata": {},
   "source": [
    "Cargando librerias"
   ]
  },
  {
   "cell_type": "code",
   "execution_count": 10,
   "metadata": {},
   "outputs": [],
   "source": [
    "# Importando librerias\n",
    "import numpy as np\n",
    "import pandas as pd\n",
    "import pymysql as pysql\n",
    "import pymysql.cursors"
   ]
  },
  {
   "cell_type": "markdown",
   "metadata": {},
   "source": [
    "Estableciendo parametros de conexión "
   ]
  },
  {
   "cell_type": "code",
   "execution_count": 12,
   "metadata": {},
   "outputs": [],
   "source": [
    "conn = pysql.connect(host=\"localhost\",user=\"root\",password=\"\", \n",
    "                     db =\"test\", cursorclass = pymysql.cursors.DictCursor)\n",
    "\n",
    "cur = conn.cursor()"
   ]
  },
  {
   "cell_type": "markdown",
   "metadata": {},
   "source": [
    "Realizando una consulta"
   ]
  },
  {
   "cell_type": "code",
   "execution_count": 14,
   "metadata": {},
   "outputs": [
    {
     "name": "stdout",
     "output_type": "stream",
     "text": [
      "(('nro_io_cpu', 3, None, 11, 11, 0, True), ('cpu_time', 4, None, 12, 12, 31, True))\n"
     ]
    }
   ],
   "source": [
    "cur.execute(\"SELECT * FROM IO_TIMES\")\n",
    "print(cur.description)"
   ]
  },
  {
   "cell_type": "markdown",
   "metadata": {},
   "source": [
    "Imprime los registros de la tabla"
   ]
  },
  {
   "cell_type": "code",
   "execution_count": 15,
   "metadata": {},
   "outputs": [
    {
     "name": "stdout",
     "output_type": "stream",
     "text": [
      "{'nro_io_cpu': 1, 'cpu_time': 0.092}\n",
      "{'nro_io_cpu': 2, 'cpu_time': 0.134}\n",
      "{'nro_io_cpu': 3, 'cpu_time': 0.165}\n",
      "{'nro_io_cpu': 4, 'cpu_time': 0.211}\n",
      "{'nro_io_cpu': 5, 'cpu_time': 0.242}\n",
      "{'nro_io_cpu': 6, 'cpu_time': 0.302}\n",
      "{'nro_io_cpu': 7, 'cpu_time': 0.357}\n",
      "{'nro_io_cpu': 8, 'cpu_time': 0.401}\n",
      "{'nro_io_cpu': 9, 'cpu_time': 0.405}\n",
      "{'nro_io_cpu': 10, 'cpu_time': 0.442}\n"
     ]
    }
   ],
   "source": [
    "for row in cur:\n",
    "    print(row)    "
   ]
  },
  {
   "cell_type": "markdown",
   "metadata": {},
   "source": [
    "Cierra conexión"
   ]
  },
  {
   "cell_type": "code",
   "execution_count": 16,
   "metadata": {},
   "outputs": [],
   "source": [
    "cur.close()\n",
    "conn.close()"
   ]
  },
  {
   "cell_type": "code",
   "execution_count": null,
   "metadata": {},
   "outputs": [],
   "source": []
  }
 ],
 "metadata": {
  "kernelspec": {
   "display_name": "Python 3",
   "language": "python",
   "name": "python3"
  },
  "language_info": {
   "codemirror_mode": {
    "name": "ipython",
    "version": 3
   },
   "file_extension": ".py",
   "mimetype": "text/x-python",
   "name": "python",
   "nbconvert_exporter": "python",
   "pygments_lexer": "ipython3",
   "version": "3.6.8"
  }
 },
 "nbformat": 4,
 "nbformat_minor": 2
}
