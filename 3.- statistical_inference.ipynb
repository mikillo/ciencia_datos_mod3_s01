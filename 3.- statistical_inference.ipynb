{
 "cells": [
  {
   "cell_type": "markdown",
   "metadata": {},
   "source": [
    "\n",
    "<h1 align=center><font size = 5>Statistical Inference with Python</font></h1>"
   ]
  },
  {
   "cell_type": "code",
   "execution_count": 1,
   "metadata": {},
   "outputs": [],
   "source": [
    "# Importando librerias\n",
    "import numpy as np\n",
    "import pandas as pd"
   ]
  },
  {
   "cell_type": "code",
   "execution_count": 2,
   "metadata": {},
   "outputs": [
    {
     "data": {
      "text/html": [
       "<div>\n",
       "<style scoped>\n",
       "    .dataframe tbody tr th:only-of-type {\n",
       "        vertical-align: middle;\n",
       "    }\n",
       "\n",
       "    .dataframe tbody tr th {\n",
       "        vertical-align: top;\n",
       "    }\n",
       "\n",
       "    .dataframe thead th {\n",
       "        text-align: right;\n",
       "    }\n",
       "</style>\n",
       "<table border=\"1\" class=\"dataframe\">\n",
       "  <thead>\n",
       "    <tr style=\"text-align: right;\">\n",
       "      <th></th>\n",
       "      <th>id</th>\n",
       "      <th>Gender</th>\n",
       "      <th>Python_user</th>\n",
       "      <th>R_user</th>\n",
       "      <th>Age</th>\n",
       "      <th>Publications</th>\n",
       "      <th>Tasks</th>\n",
       "      <th>Q1</th>\n",
       "      <th>Q2</th>\n",
       "      <th>Q3</th>\n",
       "      <th>Q4</th>\n",
       "      <th>Q5</th>\n",
       "      <th>Q6</th>\n",
       "      <th>Q7</th>\n",
       "      <th>Q8</th>\n",
       "      <th>Q9</th>\n",
       "      <th>Q10</th>\n",
       "      <th>Year</th>\n",
       "    </tr>\n",
       "  </thead>\n",
       "  <tbody>\n",
       "    <tr>\n",
       "      <th>0</th>\n",
       "      <td>1</td>\n",
       "      <td>female</td>\n",
       "      <td>yes</td>\n",
       "      <td>yes</td>\n",
       "      <td>38.0</td>\n",
       "      <td>33</td>\n",
       "      <td>Postdoctoral_research</td>\n",
       "      <td>5</td>\n",
       "      <td>5</td>\n",
       "      <td>5</td>\n",
       "      <td>3</td>\n",
       "      <td>3</td>\n",
       "      <td>2</td>\n",
       "      <td>5</td>\n",
       "      <td>4</td>\n",
       "      <td>5</td>\n",
       "      <td>4</td>\n",
       "      <td>2004</td>\n",
       "    </tr>\n",
       "    <tr>\n",
       "      <th>1</th>\n",
       "      <td>2</td>\n",
       "      <td>male</td>\n",
       "      <td>no</td>\n",
       "      <td>yes</td>\n",
       "      <td>36.0</td>\n",
       "      <td>31</td>\n",
       "      <td>Postdoctoral_research</td>\n",
       "      <td>3</td>\n",
       "      <td>4</td>\n",
       "      <td>4</td>\n",
       "      <td>4</td>\n",
       "      <td>4</td>\n",
       "      <td>3</td>\n",
       "      <td>5</td>\n",
       "      <td>4</td>\n",
       "      <td>4</td>\n",
       "      <td>2</td>\n",
       "      <td>2002</td>\n",
       "    </tr>\n",
       "    <tr>\n",
       "      <th>2</th>\n",
       "      <td>3</td>\n",
       "      <td>male</td>\n",
       "      <td>yes</td>\n",
       "      <td>no</td>\n",
       "      <td>30.0</td>\n",
       "      <td>19</td>\n",
       "      <td>PhD_Student</td>\n",
       "      <td>5</td>\n",
       "      <td>5</td>\n",
       "      <td>5</td>\n",
       "      <td>4</td>\n",
       "      <td>5</td>\n",
       "      <td>4</td>\n",
       "      <td>5</td>\n",
       "      <td>4</td>\n",
       "      <td>5</td>\n",
       "      <td>5</td>\n",
       "      <td>2016</td>\n",
       "    </tr>\n",
       "    <tr>\n",
       "      <th>3</th>\n",
       "      <td>4</td>\n",
       "      <td>female</td>\n",
       "      <td>yes</td>\n",
       "      <td>no</td>\n",
       "      <td>42.0</td>\n",
       "      <td>29</td>\n",
       "      <td>Phd_Supervisor</td>\n",
       "      <td>4</td>\n",
       "      <td>4</td>\n",
       "      <td>4</td>\n",
       "      <td>3</td>\n",
       "      <td>3</td>\n",
       "      <td>4</td>\n",
       "      <td>4</td>\n",
       "      <td>2</td>\n",
       "      <td>3</td>\n",
       "      <td>4</td>\n",
       "      <td>2007</td>\n",
       "    </tr>\n",
       "    <tr>\n",
       "      <th>4</th>\n",
       "      <td>5</td>\n",
       "      <td>female</td>\n",
       "      <td>yes</td>\n",
       "      <td>no</td>\n",
       "      <td>37.0</td>\n",
       "      <td>31</td>\n",
       "      <td>PhD_Student</td>\n",
       "      <td>4</td>\n",
       "      <td>3</td>\n",
       "      <td>5</td>\n",
       "      <td>2</td>\n",
       "      <td>4</td>\n",
       "      <td>4</td>\n",
       "      <td>5</td>\n",
       "      <td>3</td>\n",
       "      <td>5</td>\n",
       "      <td>4</td>\n",
       "      <td>2001</td>\n",
       "    </tr>\n",
       "  </tbody>\n",
       "</table>\n",
       "</div>"
      ],
      "text/plain": [
       "   id  Gender Python_user R_user   Age  Publications                  Tasks  \\\n",
       "0   1  female         yes    yes  38.0            33  Postdoctoral_research   \n",
       "1   2    male          no    yes  36.0            31  Postdoctoral_research   \n",
       "2   3    male         yes     no  30.0            19            PhD_Student   \n",
       "3   4  female         yes     no  42.0            29         Phd_Supervisor   \n",
       "4   5  female         yes     no  37.0            31            PhD_Student   \n",
       "\n",
       "   Q1  Q2  Q3  Q4  Q5  Q6  Q7  Q8  Q9  Q10  Year  \n",
       "0   5   5   5   3   3   2   5   4   5    4  2004  \n",
       "1   3   4   4   4   4   3   5   4   4    2  2002  \n",
       "2   5   5   5   4   5   4   5   4   5    5  2016  \n",
       "3   4   4   4   3   3   4   4   2   3    4  2007  \n",
       "4   4   3   5   2   4   4   5   3   5    4  2001  "
      ]
     },
     "execution_count": 2,
     "metadata": {},
     "output_type": "execute_result"
    }
   ],
   "source": [
    "datadf = pd.read_csv(\"data.csv\",sep = \";\")\n",
    "datadf.head()"
   ]
  },
  {
   "cell_type": "code",
   "execution_count": 3,
   "metadata": {},
   "outputs": [
    {
     "data": {
      "text/plain": [
       "id                int64\n",
       "Gender           object\n",
       "Python_user      object\n",
       "R_user           object\n",
       "Age             float64\n",
       "Publications      int64\n",
       "Tasks            object\n",
       "Q1                int64\n",
       "Q2                int64\n",
       "Q3                int64\n",
       "Q4                int64\n",
       "Q5                int64\n",
       "Q6                int64\n",
       "Q7                int64\n",
       "Q8                int64\n",
       "Q9                int64\n",
       "Q10               int64\n",
       "Year              int64\n",
       "dtype: object"
      ]
     },
     "execution_count": 3,
     "metadata": {},
     "output_type": "execute_result"
    }
   ],
   "source": [
    "# Muestra los tipos de datos\n",
    "datadf.dtypes"
   ]
  },
  {
   "cell_type": "code",
   "execution_count": 4,
   "metadata": {},
   "outputs": [
    {
     "data": {
      "text/plain": [
       "37.05555555555556"
      ]
     },
     "execution_count": 4,
     "metadata": {},
     "output_type": "execute_result"
    }
   ],
   "source": [
    "datadf['Age'].mean()"
   ]
  },
  {
   "cell_type": "code",
   "execution_count": 5,
   "metadata": {},
   "outputs": [
    {
     "data": {
      "text/plain": [
       "60    39.0\n",
       "61    48.0\n",
       "62    32.0\n",
       "63    39.0\n",
       "64    34.0\n",
       "65     NaN\n",
       "66    46.0\n",
       "67    38.0\n",
       "68    41.0\n",
       "Name: Age, dtype: float64"
      ]
     },
     "execution_count": 5,
     "metadata": {},
     "output_type": "execute_result"
    }
   ],
   "source": [
    "datadf['Age'][60:69]"
   ]
  },
  {
   "cell_type": "markdown",
   "metadata": {},
   "source": [
    "# 1.- Normality Tests"
   ]
  },
  {
   "cell_type": "markdown",
   "metadata": {},
   "source": [
    "## Numerically"
   ]
  },
  {
   "cell_type": "code",
   "execution_count": 6,
   "metadata": {},
   "outputs": [],
   "source": [
    "# Muestra los edades agrupadas\n",
    "#datadf['Age'].value_counts()"
   ]
  },
  {
   "cell_type": "code",
   "execution_count": 7,
   "metadata": {},
   "outputs": [
    {
     "name": "stdout",
     "output_type": "stream",
     "text": [
      "False\n",
      "True\n",
      "False\n"
     ]
    }
   ],
   "source": [
    "print(np.isnan(datadf['Age'][64]))\n",
    "print(np.isnan(datadf['Age'][65]))\n",
    "print(np.isnan(datadf['Age'][66]))\n",
    "\n",
    "# Obtenemos la media\n",
    "mean_age = datadf['Age'].mean()\n",
    "\n",
    "# Reemplaza los datos faltantes con la media.\n",
    "# Se muestran 2 formas\n",
    "#datadf['Age'][np.isnan(datadf['Age'])] = mean_age\n",
    "datadf['Age'] = datadf['Age'].fillna(mean_age)"
   ]
  },
  {
   "cell_type": "markdown",
   "metadata": {},
   "source": [
    "### Shapiro Test "
   ]
  },
  {
   "cell_type": "markdown",
   "metadata": {},
   "source": [
    "Hipotesis:\n",
    "\n",
    "- $H_0$: La variable tiene distribución normal (hipotesis nula)\n",
    "- $H_1$: La variable no tiene distribución normal (hipotesis alterna)"
   ]
  },
  {
   "cell_type": "code",
   "execution_count": 8,
   "metadata": {},
   "outputs": [],
   "source": [
    "### Shapiro-Wilk normality test for Age and Publications variables\n",
    "\n",
    "# Import packages\n",
    "import scipy\n",
    "from scipy import stats"
   ]
  },
  {
   "cell_type": "code",
   "execution_count": 9,
   "metadata": {},
   "outputs": [
    {
     "data": {
      "text/plain": [
       "(0.9920958876609802, 0.3522576689720154)"
      ]
     },
     "execution_count": 9,
     "metadata": {},
     "output_type": "execute_result"
    }
   ],
   "source": [
    "# Shapiro-Wilk test for Age variables\n",
    "stats.shapiro(datadf['Age'])"
   ]
  },
  {
   "cell_type": "markdown",
   "metadata": {},
   "source": [
    "Como p.valor = 0.3523 > 0.05, se tiene sufiiente evidencia estadistica para aceptar\n",
    "la hipotesis nula, por lo tanto la variable Age cumple el supuesto de normalidad"
   ]
  },
  {
   "cell_type": "code",
   "execution_count": 10,
   "metadata": {},
   "outputs": [
    {
     "data": {
      "text/plain": [
       "(0.9592043161392212, 1.6238263924606144e-05)"
      ]
     },
     "execution_count": 10,
     "metadata": {},
     "output_type": "execute_result"
    }
   ],
   "source": [
    "# Shapiro-Wilk test for Publications variables\n",
    "stats.shapiro(datadf['Publications'])"
   ]
  },
  {
   "cell_type": "markdown",
   "metadata": {},
   "source": [
    "### Kolmogorov-Smirnov"
   ]
  },
  {
   "cell_type": "markdown",
   "metadata": {},
   "source": [
    "Hipotesis:\n",
    "\n",
    "- $H_0$: La variable tiene distribución normal (hipotesis nula)\n",
    "- $H_1$: La variable no tiene distribución normal (hipotesis alterna)"
   ]
  },
  {
   "cell_type": "code",
   "execution_count": 11,
   "metadata": {},
   "outputs": [],
   "source": [
    "# SALE CUALQUIER VALOE\n",
    "\n",
    "'''\n",
    "# Perform test KS test against a normal distribution with\n",
    "# mean = 5 and sd = 3\n",
    "stats.kstest(datadf['Age'], 'norm', args=(5, 3))\n",
    "'''\n",
    "None"
   ]
  },
  {
   "cell_type": "code",
   "execution_count": 38,
   "metadata": {},
   "outputs": [
    {
     "name": "stdout",
     "output_type": "stream",
     "text": [
      "[1] \"R version 3.5.1 (2018-07-02)\"\n",
      "\n"
     ]
    }
   ],
   "source": [
    "import rpy2.robjects as ro\n",
    "\n",
    "# Ver version de R\n",
    "print(ro.r('R.version.string'))"
   ]
  },
  {
   "cell_type": "code",
   "execution_count": 43,
   "metadata": {},
   "outputs": [
    {
     "name": "stderr",
     "output_type": "stream",
     "text": [
      "R[write to console]: Error in contrib.url(repos, type) : \n",
      "  trying to use CRAN without setting a mirror\n",
      "Calls: <Anonymous> ... <Anonymous> -> install.packages -> grep -> contrib.url\n",
      "\n"
     ]
    },
    {
     "ename": "RRuntimeError",
     "evalue": "Error in contrib.url(repos, type) : \n  trying to use CRAN without setting a mirror\nCalls: <Anonymous> ... <Anonymous> -> install.packages -> grep -> contrib.url\n",
     "output_type": "error",
     "traceback": [
      "\u001b[0;31m---------------------------------------------------------------------------\u001b[0m",
      "\u001b[0;31mRRuntimeError\u001b[0m                             Traceback (most recent call last)",
      "\u001b[0;32m<ipython-input-43-0275d0e00f0f>\u001b[0m in \u001b[0;36m<module>\u001b[0;34m\u001b[0m\n\u001b[1;32m      6\u001b[0m \u001b[0;34m\u001b[0m\u001b[0m\n\u001b[1;32m      7\u001b[0m \u001b[0;31m# Reading the R’s package zoo, needed to apply na.aggregatefunction\u001b[0m\u001b[0;34m\u001b[0m\u001b[0;34m\u001b[0m\u001b[0;34m\u001b[0m\u001b[0m\n\u001b[0;32m----> 8\u001b[0;31m \u001b[0mro\u001b[0m\u001b[0;34m.\u001b[0m\u001b[0mr\u001b[0m\u001b[0;34m(\u001b[0m\u001b[0;34m'install.packages(\"zoo\")'\u001b[0m\u001b[0;34m)\u001b[0m\u001b[0;34m\u001b[0m\u001b[0;34m\u001b[0m\u001b[0m\n\u001b[0m\u001b[1;32m      9\u001b[0m \u001b[0mro\u001b[0m\u001b[0;34m.\u001b[0m\u001b[0mr\u001b[0m\u001b[0;34m(\u001b[0m\u001b[0;34m'library(zoo)'\u001b[0m\u001b[0;34m)\u001b[0m\u001b[0;34m\u001b[0m\u001b[0;34m\u001b[0m\u001b[0m\n\u001b[1;32m     10\u001b[0m \u001b[0;34m\u001b[0m\u001b[0m\n",
      "\u001b[0;32m~/anaconda3/lib/python3.6/site-packages/rpy2/robjects/__init__.py\u001b[0m in \u001b[0;36m__call__\u001b[0;34m(self, string)\u001b[0m\n",
      "\u001b[0;32m~/anaconda3/lib/python3.6/site-packages/rpy2/robjects/functions.py\u001b[0m in \u001b[0;36m__call__\u001b[0;34m(self, *args, **kwargs)\u001b[0m\n",
      "\u001b[0;32m~/anaconda3/lib/python3.6/site-packages/rpy2/robjects/functions.py\u001b[0m in \u001b[0;36m__call__\u001b[0;34m(self, *args, **kwargs)\u001b[0m\n",
      "\u001b[0;32m~/anaconda3/lib/python3.6/site-packages/rpy2/rinterface_lib/conversion.py\u001b[0m in \u001b[0;36m_\u001b[0;34m(*args, **kwargs)\u001b[0m\n",
      "\u001b[0;32m~/anaconda3/lib/python3.6/site-packages/rpy2/rinterface.py\u001b[0m in \u001b[0;36m__call__\u001b[0;34m(self, *args, **kwargs)\u001b[0m\n",
      "\u001b[0;31mRRuntimeError\u001b[0m: Error in contrib.url(repos, type) : \n  trying to use CRAN without setting a mirror\nCalls: <Anonymous> ... <Anonymous> -> install.packages -> grep -> contrib.url\n"
     ]
    }
   ],
   "source": [
    "### Kolmogorov-Smirnov normality test for Age and Publications variables\n",
    "'''\n",
    "# Import packages\n",
    "import rpy2.robjects as ro\n",
    "\n",
    "ro.r('data_df <- read.csv(\"data.csv\",sep=\";\")')\n",
    "\n",
    "# Reading the R’s package zoo, needed to apply na.aggregatefunction\n",
    "ro.r('install.packages(\"zoo\")')\n",
    "ro.r('library(zoo)')\n",
    "\n",
    "# Kolmogorov-Smirnov Normal Distribution test for Age and Publications variables\n",
    "print(ro.r('ks.test(na.aggregate(data_df$Age),rnorm(200, mean(na.aggregate(data_df$Age)), sd(na.aggregate(data_df$Age))))'))\n",
    "print(ro.r('ks.test(data_df$Publications, rnorm(200, mean(data_df$Publications)))'))\n",
    "'''"
   ]
  },
  {
   "cell_type": "markdown",
   "metadata": {},
   "source": [
    "# 2.- Graphically"
   ]
  },
  {
   "cell_type": "markdown",
   "metadata": {},
   "source": [
    "To synthesize (with Kolmogorov-Smirnov test)\n",
    "\n",
    "|Variable    |p.value        |H0          |Normality |Tests\n",
    "|------------|---------------|------------|----------|--------------\n",
    "|Age         |0.7112 > 0.05  |Not rejected|Normal    |Parametric\n",
    "|Publications|2.22e-16 < 0.05|Rejected    |Non-normal|Non-parametric\n"
   ]
  },
  {
   "cell_type": "markdown",
   "metadata": {},
   "source": [
    "### QQ-plots\n"
   ]
  },
  {
   "cell_type": "code",
   "execution_count": 19,
   "metadata": {},
   "outputs": [
    {
     "data": {
      "image/png": "[encoded data removed]",
      "text/plain": [
       "<Figure size 432x288 with 1 Axes>"
      ]
     },
     "metadata": {
      "needs_background": "light"
     },
     "output_type": "display_data"
    }
   ],
   "source": [
    "# Needed package\n",
    "import pylab\n",
    "import scipy.stats as stats\n",
    "#a) # Test normality with normal Q-Q Plot for Age variable\n",
    "stats.probplot(datadf['Age'], dist=\"norm\", plot=pylab)\n",
    "pylab.show()\n"
   ]
  },
  {
   "cell_type": "code",
   "execution_count": 20,
   "metadata": {},
   "outputs": [
    {
     "data": {
      "image/png": "[encoded data removed]",
      "text/plain": [
       "<Figure size 432x288 with 1 Axes>"
      ]
     },
     "metadata": {
      "needs_background": "light"
     },
     "output_type": "display_data"
    }
   ],
   "source": [
    "#b) # Test normality with normal Q-Q Plot for Publications variable\n",
    "stats.probplot(datadf['Publications'], dist=\"norm\", plot=pylab)\n",
    "pylab.show()"
   ]
  },
  {
   "cell_type": "markdown",
   "metadata": {},
   "source": [
    "# 3.- Parametric Tests"
   ]
  },
  {
   "cell_type": "markdown",
   "metadata": {},
   "source": [
    "## Student’s t-Test"
   ]
  },
  {
   "cell_type": "markdown",
   "metadata": {},
   "source": [
    "The Student’s t-test is used when the objective is to analyze the distribution of a numerical variable by a categorical variable with two-factor levels. For example, the variation of the Age with the Gender (male vs. female) is one of these cases."
   ]
  },
  {
   "cell_type": "markdown",
   "metadata": {},
   "source": [
    "Hipotesis:\n",
    "\n",
    "- $H_0$: No hay la diferencia entre las dos medias de la población (hipotesis nula)\n",
    "- $H_1$: Hay diferencia entre las dos medias de la población (hipotesis alterna)"
   ]
  },
  {
   "cell_type": "markdown",
   "metadata": {},
   "source": [
    "Hipotesis:\n",
    "\n",
    "- $H_0$: $mu_0 = mu_1$ (hipotesis nula)\n",
    "- $H_1$: $mu_0 \\neq mu_1$ (hipotesis alterna)"
   ]
  },
  {
   "cell_type": "code",
   "execution_count": 21,
   "metadata": {},
   "outputs": [
    {
     "data": {
      "text/plain": [
       "Ttest_indResult(statistic=-0.2833085288319908, pvalue=0.7772363334032341)"
      ]
     },
     "execution_count": 21,
     "metadata": {},
     "output_type": "execute_result"
    }
   ],
   "source": [
    "### Student’s t-test\n",
    "# Student’s t-test with replacing the missing values by the mean of the variable\n",
    "\n",
    "#datadf['Age'][np.isnan(datadf['Age'])] = mean_age\n",
    "datadf['Age'] = datadf['Age'].fillna(mean_age)\n",
    "\n",
    "stats.ttest_ind(datadf['Age'][datadf['Gender'] == \"male\"],\n",
    "                datadf['Age'][datadf['Gender'] == \"female\"])"
   ]
  },
  {
   "cell_type": "markdown",
   "metadata": {},
   "source": [
    "Como p.valor = 0.777 > 0.05, se tiene sufiiente evidencia estadistica para aceptar\n",
    "la hipotesis nula, por lo tanto se puede asumir que el promedio de la edad de hombres y mujeres que realizan investigación es la misma"
   ]
  },
  {
   "cell_type": "markdown",
   "metadata": {},
   "source": [
    "## ANOVA"
   ]
  },
  {
   "cell_type": "markdown",
   "metadata": {},
   "source": [
    "The one-way analysis of variance (ANOVA) is used to determine whether there are any significant differences between the means of three or more independent (unrelated) groups.\n",
    "To apply an ANOVA test, there are three needed primary assumptions:"
   ]
  },
  {
   "cell_type": "markdown",
   "metadata": {},
   "source": [
    "- The dependent variable is normally distributed in each group that is being compared in the one-way ANOVA.\n",
    "- There is variances homogeneity. The population variances in each group are equal. Levene’s Test is used for testing the Homogeneity of Variances.\n",
    "- Independence of observations. This is mostly a study design issue and, as such, it will be needed to determine if they are independent."
   ]
  },
  {
   "cell_type": "markdown",
   "metadata": {},
   "source": [
    "Hipotesis:\n",
    "\n",
    "- $H_0$: $mu_1 = mu_2 = mu_3 = ...... = mu_k$ (hipotesis nula)\n",
    "- $H_1$: Al menos hay una media que no es igual (hipotesis alterna)"
   ]
  },
  {
   "cell_type": "markdown",
   "metadata": {},
   "source": [
    "### Levene’s test"
   ]
  },
  {
   "cell_type": "markdown",
   "metadata": {},
   "source": [
    "Verify the homogeneity of variances"
   ]
  },
  {
   "cell_type": "markdown",
   "metadata": {},
   "source": [
    "Hipotesis:\n",
    "\n",
    "- $H_0$: $\\sigma_1^2 = \\sigma_2^2 = \\sigma_3^3 = ...... = \\sigma_k^2$ (hipotesis nula)\n",
    "- $H_1$: $\\sigma_i^2 \\neq \\sigma_j^2$ para al menos un par de (i,j) (hipotesis alterna)"
   ]
  },
  {
   "cell_type": "code",
   "execution_count": 22,
   "metadata": {},
   "outputs": [
    {
     "data": {
      "text/plain": [
       "LeveneResult(statistic=4.718839417255889, pvalue=0.009958868591183941)"
      ]
     },
     "execution_count": 22,
     "metadata": {},
     "output_type": "execute_result"
    }
   ],
   "source": [
    "### Levene’s test\n",
    "# Levene’s test of the Age depending of the Tasks. Test with NA’s substituted by the mean\n",
    "stats.levene(datadf['Age'][datadf['Tasks']==\"PhD_Student\"],\n",
    "             datadf['Age'][datadf['Tasks']==\"Phd_Supervisor\"],\n",
    "             datadf['Age'][datadf['Tasks']==\"Postdoctoral_research\"], center = 'median')"
   ]
  },
  {
   "cell_type": "markdown",
   "metadata": {},
   "source": [
    "Como p.valor = 0.00996 < 0.05, no se tiene suficiente evidencia estadistica para \n",
    "aceptar la hipotesis nula, por lo tanto se rechaza. Se asume que no hay \n",
    "homogeneidad de varianza (heterocedasticidad de varianza)"
   ]
  },
  {
   "cell_type": "markdown",
   "metadata": {},
   "source": [
    "### ANOVA test with Welch’s correction"
   ]
  },
  {
   "cell_type": "code",
   "execution_count": 42,
   "metadata": {},
   "outputs": [
    {
     "name": "stderr",
     "output_type": "stream",
     "text": [
      "R[write to console]: Error: package or namespace load failed for ‘zoo’:\n",
      " object 'autoplot' not found whilst loading namespace 'zoo'\n",
      "\n",
      "R[write to console]: Además: \n",
      "R[write to console]: Warning message:\n",
      "\n",
      "R[write to console]: package ‘zoo’ was built under R version 3.6.1 \n",
      "\n"
     ]
    },
    {
     "ename": "RRuntimeError",
     "evalue": "Error: package or namespace load failed for ‘zoo’:\n object 'autoplot' not found whilst loading namespace 'zoo'\n",
     "output_type": "error",
     "traceback": [
      "\u001b[0;31m---------------------------------------------------------------------------\u001b[0m",
      "\u001b[0;31mRRuntimeError\u001b[0m                             Traceback (most recent call last)",
      "\u001b[0;32m<ipython-input-42-105f6e2ec67f>\u001b[0m in \u001b[0;36m<module>\u001b[0;34m\u001b[0m\n\u001b[1;32m      8\u001b[0m \u001b[0;34m\u001b[0m\u001b[0m\n\u001b[1;32m      9\u001b[0m \u001b[0;31m# Get NA values equal to Age’s mean with function na.aggregate and zoo package\u001b[0m\u001b[0;34m\u001b[0m\u001b[0;34m\u001b[0m\u001b[0;34m\u001b[0m\u001b[0m\n\u001b[0;32m---> 10\u001b[0;31m \u001b[0mro\u001b[0m\u001b[0;34m.\u001b[0m\u001b[0mr\u001b[0m\u001b[0;34m(\u001b[0m\u001b[0;34m'library(zoo)'\u001b[0m\u001b[0;34m)\u001b[0m\u001b[0;34m\u001b[0m\u001b[0;34m\u001b[0m\u001b[0m\n\u001b[0m\u001b[1;32m     11\u001b[0m \u001b[0mro\u001b[0m\u001b[0;34m.\u001b[0m\u001b[0mr\u001b[0m\u001b[0;34m(\u001b[0m\u001b[0;34m'library(stats)'\u001b[0m\u001b[0;34m)\u001b[0m\u001b[0;34m\u001b[0m\u001b[0;34m\u001b[0m\u001b[0m\n\u001b[1;32m     12\u001b[0m \u001b[0;34m\u001b[0m\u001b[0m\n",
      "\u001b[0;32m~/anaconda3/lib/python3.6/site-packages/rpy2/robjects/__init__.py\u001b[0m in \u001b[0;36m__call__\u001b[0;34m(self, string)\u001b[0m\n",
      "\u001b[0;32m~/anaconda3/lib/python3.6/site-packages/rpy2/robjects/functions.py\u001b[0m in \u001b[0;36m__call__\u001b[0;34m(self, *args, **kwargs)\u001b[0m\n",
      "\u001b[0;32m~/anaconda3/lib/python3.6/site-packages/rpy2/robjects/functions.py\u001b[0m in \u001b[0;36m__call__\u001b[0;34m(self, *args, **kwargs)\u001b[0m\n",
      "\u001b[0;32m~/anaconda3/lib/python3.6/site-packages/rpy2/rinterface_lib/conversion.py\u001b[0m in \u001b[0;36m_\u001b[0;34m(*args, **kwargs)\u001b[0m\n",
      "\u001b[0;32m~/anaconda3/lib/python3.6/site-packages/rpy2/rinterface.py\u001b[0m in \u001b[0;36m__call__\u001b[0;34m(self, *args, **kwargs)\u001b[0m\n",
      "\u001b[0;31mRRuntimeError\u001b[0m: Error: package or namespace load failed for ‘zoo’:\n object 'autoplot' not found whilst loading namespace 'zoo'\n"
     ]
    }
   ],
   "source": [
    "### One-Way ANOVA with R for Welch’s correction\n",
    "'''\n",
    "# Import packages\n",
    "import rpy2.robjects as ro\n",
    "\n",
    "# Reading the data with R\n",
    "ro.r('data_df <- read.csv(\"data.csv\",sep=\";\")')\n",
    "\n",
    "# Get NA values equal to Age’s mean with function na.aggregate and zoo package\n",
    "ro.r('library(zoo)')\n",
    "ro.r('library(stats)')\n",
    "\n",
    "# ANOVA with Welch correction (var.equal = FALSE) \n",
    "print(ro.r('oneway.test(na.aggregate(data_df$Age)~Tasks, data = data_df, na.action=na.omit, var.equal=FALSE)'))\n",
    "\n",
    "'''"
   ]
  },
  {
   "cell_type": "markdown",
   "metadata": {},
   "source": [
    "Como (p-value < 2.2e-16) < 0.05, Se tiene suficiente evidencia estadistica para rechazar\n",
    "la hipotesis nula, por lo tanto se puede asumir que las varianzas de hombres y mujeres que \n",
    "realizan investigación NO es la misma (heterocedasticidad de varianza)"
   ]
  },
  {
   "cell_type": "markdown",
   "metadata": {},
   "source": [
    "However, as there are three-factor levels, post-hoc tests should be used. In a case of the variances homogeneity being violated, the Games-Howell test is more appropriate then Tukey test"
   ]
  },
  {
   "cell_type": "code",
   "execution_count": 24,
   "metadata": {},
   "outputs": [],
   "source": [
    "# EN PYTHON NO ESTA IMPLEMENTADO LA PRUEBA DE GAMES-HOWELL \n",
    "# PARA VARIABLES CATEGORICAS Y NUMERICAS\n",
    "\n",
    "# \n",
    "# stats.ttest_ind(datadf['Age'].astype(\"int\"), datadf['Tasks'], equal_var = False)\n",
    "# stats.ttest_ind(datadf['Age'], datadf['Tasks'], equal_var = False)\n"
   ]
  },
  {
   "cell_type": "markdown",
   "metadata": {},
   "source": [
    "### Games-Howell test"
   ]
  },
  {
   "cell_type": "markdown",
   "metadata": {},
   "source": [
    "The Games-Howell test is used when variances are unequal and also takes into account unequal group sizes. Severely unequal variances can lead to increased Type I error, and, with smaller sample sizes, the more moderate differences in-group variance can result in increases in Type I error. The Games-Howell test, which is designed for unequal variances, is based on Welch’s correction"
   ]
  },
  {
   "cell_type": "code",
   "execution_count": 26,
   "metadata": {},
   "outputs": [],
   "source": [
    "# Se instala el paquete de R \"userfriendlyscience\"\n",
    "# que sera invocado desde el terminal\n",
    "\n",
    "# https://github.com/conda-forge/r-userfriendlyscience-feedstock\n",
    "# conda config --add channels conda-forge\n",
    "# conda install r-userfriendlyscience\n",
    "\n",
    "# conda install r-Rcpp"
   ]
  },
  {
   "cell_type": "code",
   "execution_count": 27,
   "metadata": {},
   "outputs": [],
   "source": [
    "### Games-Howell test for multiple comparisons (asking R)\n",
    "# See https://sites.google.com/site/aslugsguidetopython/data-analysis/pandas/calling-r-from-python\n",
    "\n",
    "'''\n",
    "# Import packages\n",
    "import rpy2 as rpy2\n",
    "from rpy2.robjects.packages import importr\n",
    "import rpy2.robjects as ro\n",
    "\n",
    "# Reading the data with R\n",
    "ro.r('data_df <- read.csv(\"data.csv\",sep=\";\")')\n",
    "\n",
    "# Reading the R’s package zoo, needed to apply na.aggregate\n",
    "ro.r('library(Rcpp)')\n",
    "ro.r('library(userfriendlyscience)')\n",
    "ro.r('library(zoo)')\n",
    "\n",
    "# Store the data in an auxiliary variable for editing\n",
    "ro.r('data_df_new <- data_df')\n",
    "\n",
    "# Substitution of the missing values by the mean of the variable\n",
    "ro.r('data_df_new$Age <- na.aggregate(as.numeric(data_df$Age), by=\"Age\", FUN = mean)')\n",
    "\n",
    "# Reading the R’s package userfriendlyscience, needed to apply Games-Howell test\n",
    "# this time the loading is done with the importr function\n",
    "#science = importr('userfriendlyscience')\n",
    "\n",
    "# Games-Howell test\n",
    "print(ro.r('oneway(y=data_df_new$Age, x = data_df$Tasks, posthoc=\"games-howell\", means=T, fullDescribe=T, levene=T,plot=, digits=2,pvalueDigits=3, conf.level=0.95)'))\n",
    "\n",
    "'''\n",
    "\n",
    "# PROBLEMAS CON LAS VERSIONES DE R\n",
    "#\n",
    "# Error: package or namespace load failed for ‘Rcpp’ in library.dynam(lib, package, package.lib):\n",
    "# shared object ‘Rcpp.dylib’ not found \n",
    "\n",
    "None"
   ]
  },
  {
   "cell_type": "markdown",
   "metadata": {},
   "source": [
    "#### Se muestra codigo que se ejecuta en RStudio para la prueba de Games-Howell"
   ]
  },
  {
   "cell_type": "code",
   "execution_count": 28,
   "metadata": {},
   "outputs": [],
   "source": [
    "# Games-Howell test\n",
    "\n",
    "'''\n",
    "#install.packages(\"userfriendlyscience\")\n",
    "\n",
    "library(userfriendlyscience)\n",
    "### Read data\n",
    "data_df <- read.csv(\"others/data.csv\",sep=\";\")\n",
    "\n",
    "# Store the data in an auxiliary variable for editing\n",
    "data_df_new <- data_df\n",
    "\n",
    "# Substitution of the missing values by the mean of the variable\n",
    "data_df_new$Age <- na.aggregate(as.numeric(data_df$Age), by=\"Age\", FUN = mean)\n",
    "\n",
    "# Games-Howell test\n",
    "oneway(y=data_df_new$Age, x = data_df$Tasks, posthoc=\"games-howell\", \n",
    "       means=T, fullDescribe=T, levene=T,plot=T, digits=2,pvalueDigits=3, \n",
    "       conf.level=0.95)\n",
    "'''\n",
    "None"
   ]
  },
  {
   "cell_type": "markdown",
   "metadata": {},
   "source": [
    "#### Se muestra la salida de la prueba de Games-Howell"
   ]
  },
  {
   "cell_type": "code",
   "execution_count": 29,
   "metadata": {},
   "outputs": [],
   "source": [
    "### Oneway Anova for y=Age and x=Tasks (groups: PhD_Student, Phd_Supervisor, Postdoctoral_research)\n",
    "'''\n",
    "### Oneway Anova for y=Age and x=Tasks (groups: PhD_Student, Phd_Supervisor, Postdoctoral_research)\n",
    "\n",
    "Omega squared: 95% CI = [.6122; .7329], point estimate = .6794\n",
    "Eta Squared: 95% CI = [.624; .7251], point estimate = .6837\n",
    "\n",
    "                                       SS  Df        MS        F       p\n",
    "Between groups (error + effect) 4280.2355   2 2140.1178 212.9144 < .0001\n",
    "Within groups (error only)      1980.1534 197   10.0515                 \n",
    "\n",
    "### Means for y (Age) separate for each level of x (Tasks):\n",
    "\n",
    "Tasks = PhD_Student:\n",
    "   n  mean    sd median trimmed   mad min max range    skew kurtosis     se\n",
    "  78 32.05 3.549     32   32.14 2.965  24  39    15 -0.1862  -0.4118 0.4018\n",
    "\n",
    "Tasks = Phd_Supervisor:\n",
    "   n  mean    sd median trimmed   mad min max range   skew kurtosis     se\n",
    "  56 43.48 3.469     43   43.35 2.965  36  52    16 0.4256  -0.3595 0.4636\n",
    "\n",
    "Tasks = Postdoctoral_research:\n",
    "   n  mean    sd median trimmed   mad min max range   skew kurtosis    se\n",
    "  66 37.52 2.315  37.06   37.41 2.883  33  43    10 0.4112  -0.2051 0.285\n",
    "\n",
    "### Levene's test for homogeneity of variance:\n",
    "\n",
    "F[2, 197] = 5.4902, p = .00478.\n",
    "\n",
    "### Post hoc test: games-howell\n",
    "\n",
    "                                        diff   ci.lo   ci.hi       t       df        p\n",
    "Phd_Supervisor-PhD_Student           11.4309  9.9749 12.8868 18.6318 120.2171 < .00001\n",
    "Postdoctoral_research-PhD_Student     5.4656  4.2980  6.6331 11.0948 133.8273 < .00001\n",
    "Postdoctoral_research-Phd_Supervisor -5.9653 -7.2614 -4.6692 10.9619  93.1597 < .00001\n",
    "\n",
    "'''\n",
    "None"
   ]
  },
  {
   "cell_type": "markdown",
   "metadata": {},
   "source": [
    "The given output is very complete. The descriptive analysis of the Age variable by each task is represented. Also, the results of the Levene’s test, the ANOVA test, and the post-hoc tests are present in this output.\n",
    "\n",
    "The average, Ph.D. Students have 32.05 years old, Ph.D. Supervisors have 43.48 years old, and  Postdoctoral Researchers have 37.52 years old."
   ]
  },
  {
   "cell_type": "markdown",
   "metadata": {},
   "source": [
    "### Tukey test"
   ]
  },
  {
   "cell_type": "markdown",
   "metadata": {},
   "source": [
    "Although Games-Howell is more appropriate when there are differences between groups without homogeneity of variances, Tukey test should only be utilized in case of homogeneity of variances. Tukey’s HSD test is a post-hoc test, meaning that it is performed after an analysis of variance (ANOVA) test. This means that to maintain integrity, a statistician should not perform Tukey’s HSD test unless he/she has first performed an ANOVA analysis. In statistics, post-hoc tests are used only for further data analysis. These types of tests are not pre-planned. In other words, the reader should have no plans to use Tukey’s HSD test before he/she collects and analyzes the data first"
   ]
  },
  {
   "cell_type": "code",
   "execution_count": 30,
   "metadata": {},
   "outputs": [
    {
     "name": "stdout",
     "output_type": "stream",
     "text": [
      "           Multiple Comparison of Means - Tukey HSD, FWER=0.05            \n",
      "==========================================================================\n",
      "    group1             group2        meandiff p-adj  lower   upper  reject\n",
      "--------------------------------------------------------------------------\n",
      "   PhD_Student        Phd_Supervisor  11.4309 0.001 10.1194 12.7423   True\n",
      "   PhD_Student Postdoctoral_research   5.4656 0.001  4.2133  6.7179   True\n",
      "Phd_Supervisor Postdoctoral_research  -5.9653 0.001 -7.3257 -4.6049   True\n",
      "--------------------------------------------------------------------------\n"
     ]
    }
   ],
   "source": [
    "### Tukey test\n",
    "# Import packages\n",
    "from statsmodels.stats.multicomp import pairwise_tukeyhsd\n",
    "\n",
    "# The clean data was execute before , this code isn't necessary\n",
    "mean_age = datadf['Age'].mean()\n",
    "datadf['Age'] = datadf['Age'].fillna(mean_age)\n",
    "\n",
    "# Tukey test\n",
    "tukey = pairwise_tukeyhsd(endog=datadf['Age'], groups=datadf['Tasks'], alpha=0.05)\n",
    "\n",
    "print(tukey.summary ())"
   ]
  },
  {
   "cell_type": "markdown",
   "metadata": {},
   "source": [
    "The last column of the Tukey test output gives the rejection (equal to true or false). In all comparisons, the p-value is near zero. This means that the hypothesis of the same mean of ages between groups is rejected and, therefore, there are significant differences between them."
   ]
  },
  {
   "cell_type": "markdown",
   "metadata": {},
   "source": [
    "# 4.- Non-Parametric Tests"
   ]
  },
  {
   "cell_type": "markdown",
   "metadata": {},
   "source": [
    "Nonparametric tests are useful to test whether group means or medians are distributed the same way across groups. In these types of tests, we rank (or place in order) each observation from our data set. Nonparametric tests are widely used when the reader does not know whether data follows a normal distribution, or have confirmed the data does not follow a normal distribution.\n",
    "\n",
    "On the other side, hypothesis tests are parametric tests based on the assump- tion that the population follows a normal distribution with a set of parameters.\n",
    "\n",
    "In general, conclusions drawn from non-parametric methods are not as robust as the parametric ones. However, as non-parametric methods make fewer assumptions, they are more flexible, more robust, and applicable to non-quantitative data."
   ]
  },
  {
   "cell_type": "markdown",
   "metadata": {},
   "source": [
    "## Mann-Whitney Test"
   ]
  },
  {
   "cell_type": "markdown",
   "metadata": {},
   "source": [
    "The Mann-Whitney U test is the alternative test to the independent sample Student’s t-test. It is a nonparametric test that allows two groups or conditions or treatments to be compared without making the assumption that values are normally distributed.\n",
    "\n",
    "Since Mann-Whitney U test is a non-parametric test, it does not assume any assumptions related to the distribution. There are, however, some assumptions that are considered:\n",
    "\n",
    "- The sample drawn from the population is random.\n",
    "- Independence within the samples and mutual independence is considered.\n",
    "- The ordinal measurement scale is assumed.\n"
   ]
  },
  {
   "cell_type": "markdown",
   "metadata": {},
   "source": [
    "The hypotheses are:\n",
    "\n",
    "- $H_0$: The medians of the two samples are identical. (hipotesis nula)\n",
    "- $H_1$: The medians of the two samples are different. (hipotesis alterna)"
   ]
  },
  {
   "cell_type": "code",
   "execution_count": 31,
   "metadata": {},
   "outputs": [
    {
     "data": {
      "text/plain": [
       "MannwhitneyuResult(statistic=4485.0, pvalue=0.1443553064716097)"
      ]
     },
     "execution_count": 31,
     "metadata": {},
     "output_type": "execute_result"
    }
   ],
   "source": [
    "### Mann-Whitney test\n",
    "stats.mannwhitneyu(np.array(datadf['Publications'][datadf['Gender']==\"male\"]),\n",
    "                   np.array(datadf['Publications'][datadf['Gender']==\"female\"]))"
   ]
  },
  {
   "cell_type": "markdown",
   "metadata": {},
   "source": [
    "Mann-Whitney test output shows the value of the test and the p-value. In this case, p-value=0.14436 > 0.05, which leads to not reject the null hypothesis. Thus, it is possible to say that the hypothesis of the medians of the two samples being identical is not rejected and, therefore, male and female have a similar number of publications."
   ]
  },
  {
   "cell_type": "markdown",
   "metadata": {},
   "source": [
    "## Kruskal-Wallis test"
   ]
  },
  {
   "cell_type": "markdown",
   "metadata": {},
   "source": [
    "Kruskal-Wallis test is a nonparametric test and is used when the assumptions of ANOVA are not met. They both assess for significant differences on a continuous dependent variable by a grouping independent variable (with three or more groups). In ANOVA test, we assume that distribution of each group is normally distributed and there is approximately equal variance on the scores for each group. However, in the Kruskal-Wallis test, we do not have any of these assumptions. Like all non-parametric tests, the Kruskal-Wallis test is not as powerful as ANOVA."
   ]
  },
  {
   "cell_type": "markdown",
   "metadata": {},
   "source": [
    "The hypotheses are\n",
    "\n",
    "- $H_0$: The samples are from identical populations. (hipotesis nula)\n",
    "- $H_1$: The samples come from different populations. (hipotesis alterna)"
   ]
  },
  {
   "cell_type": "code",
   "execution_count": 32,
   "metadata": {},
   "outputs": [
    {
     "data": {
      "text/plain": [
       "KruskalResult(statistic=37.51559521809624, pvalue=7.138254137526838e-09)"
      ]
     },
     "execution_count": 32,
     "metadata": {},
     "output_type": "execute_result"
    }
   ],
   "source": [
    "### Kruskal-Wallis test\n",
    "\n",
    "from scipy.stats.mstats import kruskalwallis\n",
    "import numpy as np\n",
    "import pandas as pd \n",
    "\n",
    "kruskalwallis(np.array(datadf['Publications'][datadf['Tasks']==\"PhD_Student\"]),\n",
    "              np.array(datadf['Publications'][datadf['Tasks']==\"Phd_Supervisor\"]),\n",
    "              np.array(datadf['Publications'][datadf['Tasks']==\"Postdoctoral_research\"]))"
   ]
  },
  {
   "cell_type": "markdown",
   "metadata": {},
   "source": [
    "Kruskal-Wallis test output gives the value of the test (Kruskal-Wallis chi-squared in R or statistic in Python), the p-value. In the case of the number of publications depending on the tasks, p=7.138e-09 < 0.05 and, therefore, the null hypothesis is rejected. Thus, it is possible to say that different tasks have a different number of publications."
   ]
  },
  {
   "cell_type": "markdown",
   "metadata": {},
   "source": [
    "## Mann-Whitney test"
   ]
  },
  {
   "cell_type": "markdown",
   "metadata": {},
   "source": [
    "To know the group responsible for the significant dif- ferences, it is needed to make multiple comparisons. In ANOVA test, these comparisons are made with the post-hoc test. In Kruskal-Wallis test, there are no post-hoc tests. So, the comparisons should be made with Mann-Whitney test"
   ]
  },
  {
   "cell_type": "code",
   "execution_count": 34,
   "metadata": {},
   "outputs": [
    {
     "name": "stdout",
     "output_type": "stream",
     "text": [
      "MannwhitneyuResult(statistic=1760.0, pvalue=0.0005450774431691995)\n",
      "MannwhitneyuResult(statistic=859.0, pvalue=1.1010300601030972e-09)\n",
      "MannwhitneyuResult(statistic=1250.5, pvalue=0.0010624043495389862)\n"
     ]
    }
   ],
   "source": [
    "### Multiple comparisons with Mann-Whitney test\n",
    "# Mann-Whitney test for Ph.D. Students vs. Postdoctoral Researchers\n",
    "print(stats.mannwhitneyu(datadf['Publications'][datadf['Tasks']==\"PhD_Student\"],\n",
    "                         datadf['Publications'][datadf['Tasks']==\"Postdoctoral_research\"]))\n",
    "\n",
    "# Mann-Whitney test for Ph.D. Students vs. Ph.D. Supervisors\n",
    "print(stats.mannwhitneyu(datadf['Publications'][datadf['Tasks']==\"PhD_Student\"],\n",
    "                         datadf['Publications'][datadf['Tasks']==\"Phd_Supervisor\"]))\n",
    "\n",
    "# Mann-Whitney test for Postdoctoral Researchers vs. Ph.D. Supervisors\n",
    "print(stats.mannwhitneyu(datadf['Publications'][datadf['Tasks']==\"Phd_Supervisor\"],\n",
    "                         datadf['Publications'][datadf['Tasks']==\"Postdoctoral_research\"]))"
   ]
  },
  {
   "cell_type": "markdown",
   "metadata": {},
   "source": [
    "The results of the three Mann-Whiney tests are presented for multiple comparisons. The resulting p-values are 0.0005, 1.101e-09, and 0.00106. All of these values are lower than 0.05 and, therefore, the three null hypotheses are rejected. The obtained results allow concluding that there are significant differences between all tasks. If the reader needs to know which tasks have more publications, a descriptive analysis of them should be explored."
   ]
  },
  {
   "cell_type": "markdown",
   "metadata": {},
   "source": [
    "## Crosstabs and Chi-Square Test"
   ]
  },
  {
   "cell_type": "markdown",
   "metadata": {},
   "source": [
    "To summarize a single categorical variable, we use frequency tables. To summarize the relationship between two categorical variables, we use a cross-tabulation (also called the contingency table). A cross-tabulation (or crosstab) is a table that depicts the number of times each of the possible category combinations occurred in the sample data.\n",
    "\n",
    "The chi-square test for independence also called Pearson’s chi-square test, or the chi-square test of association is used to test independence between the row and column variables. Independence means that knowing the value of the row variable does not change the probabilities of the column variable (and vice versa). Another way of looking at independence is to say that the row percentages (or column percentages) remain constant from row to row (or column to column).\n",
    "\n",
    "When a chi-square test for independence is chosen to analyze our data, it is needed to make sure that the data we want to analyze “passes” two as- sumptions. It is necessary to do this because it is only appropriate to use a chi-square test for independence if the data gives these two assumptions. If it does not, a chi-square test for independence cannot be used. These two assumptions are:\n",
    "\n",
    "- The two variables should be measured at an ordinal or nominal level (i.e., categorical data).\n",
    "- The two variables should consist of two or more categorical, indepen- dent groups.\n"
   ]
  },
  {
   "cell_type": "markdown",
   "metadata": {},
   "source": [
    "The hypotheses are:\n",
    "        \n",
    "- $H_0$: The variables are independent. (hipotesis nula)\n",
    "- $H_1$: The variables are not independent. (hipotesis alterna)\n",
    "    "
   ]
  },
  {
   "cell_type": "code",
   "execution_count": 44,
   "metadata": {},
   "outputs": [
    {
     "name": "stdout",
     "output_type": "stream",
     "text": [
      "R_user  no  yes\n",
      "Gender         \n",
      "female  54   33\n",
      "male    37   76\n"
     ]
    },
    {
     "data": {
      "text/plain": [
       "(15.885131778780307, 6.730539665849912e-05, 1, array([[39.585, 47.415],\n",
       "        [51.415, 61.585]]))"
      ]
     },
     "execution_count": 44,
     "metadata": {},
     "output_type": "execute_result"
    }
   ],
   "source": [
    "### Chi-squared test for Gender vs. R_user\n",
    "# Import packages\n",
    "import scipy.stats as stats\n",
    "import numpy as np\n",
    "import pandas as pd\n",
    "\n",
    "# Chi-squared test\n",
    "table_r = datadf.pivot_table(index='Gender',columns='R_user', values = 'id',aggfunc='count')\n",
    "print(table_r)\n",
    "stats.chi2_contingency(table_r)"
   ]
  },
  {
   "cell_type": "markdown",
   "metadata": {},
   "source": [
    "The comparing Gender with R_user, the reader verifies, in the output, that there are 54 female non-users and 33 female users. On the opposite, the number of male non-users is 37, and male users count 76."
   ]
  },
  {
   "cell_type": "markdown",
   "metadata": {},
   "source": [
    "When the chi-squared test is applied, the test value, degrees of freedom and p-value are given in the output. In this case, p=6.731e-05 < 0.05. Thus, the null hypothesis is rejected, i.e., the hypothesis of independence of the variables is rejected. In this context, it is possible to conclude that Gender and R_user are dependents. By the previous results of the crosstab and the p-value is clear that male is more inclined to use R than female."
   ]
  },
  {
   "cell_type": "code",
   "execution_count": 47,
   "metadata": {},
   "outputs": [
    {
     "name": "stdout",
     "output_type": "stream",
     "text": [
      "Python_user  no  yes\n",
      "Gender              \n",
      "female       26   60\n",
      "male         66   47\n"
     ]
    },
    {
     "data": {
      "text/plain": [
       "(14.481674230676045,\n",
       " 0.00014152973642310866,\n",
       " 1,\n",
       " array([[39.75879397, 46.24120603],\n",
       "        [52.24120603, 60.75879397]]))"
      ]
     },
     "execution_count": 47,
     "metadata": {},
     "output_type": "execute_result"
    }
   ],
   "source": [
    "### Chi-squared test for Gender vs. Python_user\n",
    "# Import packages\n",
    "import scipy.stats as stats\n",
    "import numpy as np\n",
    "import pandas as pd\n",
    "\n",
    "# Chi-squared test\n",
    "table_py = datadf.pivot_table(index='Gender', columns='Python_user', \n",
    "                              values = 'id', aggfunc='count')\n",
    "print(table_py)\n",
    "stats.chi2_contingency(table_py)"
   ]
  },
  {
   "cell_type": "code",
   "execution_count": 51,
   "metadata": {},
   "outputs": [
    {
     "name": "stdout",
     "output_type": "stream",
     "text": [
      "Tasks   PhD_Student  Phd_Supervisor  Postdoctoral_research\n",
      "Gender                                                    \n",
      "female           34              24                     29\n",
      "male             44              32                     37\n"
     ]
    },
    {
     "data": {
      "text/plain": [
       "(0.014856468930316906, 0.9925992866818035, 2, array([[33.93, 24.36, 28.71],\n",
       "        [44.07, 31.64, 37.29]]))"
      ]
     },
     "execution_count": 51,
     "metadata": {},
     "output_type": "execute_result"
    }
   ],
   "source": [
    "### Chi-squared test for Gender vs. Tasks\n",
    "\n",
    "# Import packages\n",
    "import scipy.stats as stats\n",
    "import numpy as np\n",
    "import pandas as pd\n",
    "\n",
    "# Chi-squared test\n",
    "table_tasks = datadf.pivot_table(index='Gender',columns='Tasks',values = 'id',aggfunc='count')\n",
    "\n",
    "print(table_tasks)\n",
    "\n",
    "stats.chi2_contingency(table_tasks)"
   ]
  },
  {
   "cell_type": "markdown",
   "metadata": {},
   "source": [
    "The output shows the Gender vs. Tasks crosstab and corresponding chi-square test. In this case, there are 34 female Ph.D. Students, 24 female Ph.D. Supervisor, and 29 female Postdoctoral researchers. Additionally, there are 44 male Ph.D. Students, 32 male PhD Supervisor, and 37 male Postdoctoral researchers. The p-value resulting from the chi-squared test is p= 0.9926. \n",
    "\n",
    "Hence, the null hypothesis is not rejected, and it is possible to claim that Gender and Tasks variables are independent."
   ]
  },
  {
   "cell_type": "markdown",
   "metadata": {},
   "source": [
    "## Correlations"
   ]
  },
  {
   "cell_type": "markdown",
   "metadata": {},
   "source": [
    "Correlation is a bivariate analysis that measures the strengths of association between two variables. In statistics, the correlation coefficient varies between +1 and -1. When the correlation coefficient lies around ± 1, it is said to be a perfect degree of association between the two variables. As the correlation coefficient value goes towards 0, the relationship between the two variables will be weaker. Usually, in statistics, three types of correlations are used: \n",
    "\n",
    "- Pearson correlation.\n",
    "- Kendall rank correlation.\n",
    "- Spearman correlation."
   ]
  },
  {
   "cell_type": "markdown",
   "metadata": {},
   "source": [
    "### Pearson R Correlation\n",
    "\n",
    "Pearson r correlation is widely employed in statistics to measure the degree of the relationship between linear relat- ed variables. For Pearson r correlation, both variables should normally be distributed. Other assumptions include linearity and homogeneity"
   ]
  },
  {
   "cell_type": "markdown",
   "metadata": {},
   "source": [
    "### Kendall Rank Correlation: \n",
    "\n",
    "Kendall rank correlation is a non-para- metric test that measures the strength of dependence between two variables."
   ]
  },
  {
   "cell_type": "markdown",
   "metadata": {},
   "source": [
    "### Spearman Rank Correlation\n",
    "\n",
    "Spearman rank correlation is a non-parametric test that is used to gauge the degree of association between two variables. It was developed by Spearman. Thus, it is called the Spearman rank correlation. Spearman rank correlation test does not assume any assumptions about the distribution of the data and is the proper correlation analysis when the variables are measured on a scale that is at least ordinal. The assumptions of Spearman rho correlation are that data must be at least ordinal, and scores on one variable must be monotonically related to the other variable."
   ]
  },
  {
   "cell_type": "code",
   "execution_count": 52,
   "metadata": {},
   "outputs": [
    {
     "name": "stdout",
     "output_type": "stream",
     "text": [
      "SpearmanrResult(correlation=0.5520946661781235, pvalue=2.3689996688336485e-17)\n"
     ]
    }
   ],
   "source": [
    "### Spearman’s Correlations\n",
    "print(stats.spearmanr(datadf['Publications'],datadf['Age']))"
   ]
  },
  {
   "cell_type": "markdown",
   "metadata": {},
   "source": [
    "The value of the correlation suggests a moderate positive relationship (rho=0.55). The laid hypothesis of independence of variables (rho equal to zero) is rejected. Thus, the Age and Publications variables are positively correlated, i.e., senior researchers have more publications, or vice-versa."
   ]
  },
  {
   "cell_type": "markdown",
   "metadata": {},
   "source": [
    "# 5. Resumen\n"
   ]
  },
  {
   "cell_type": "markdown",
   "metadata": {},
   "source": [
    "<img src = \"resumen\" width = 300, align = \"center\">"
   ]
  },
  {
   "cell_type": "code",
   "execution_count": null,
   "metadata": {},
   "outputs": [],
   "source": []
  }
 ],
 "metadata": {
  "kernelspec": {
   "display_name": "Python 3",
   "language": "python",
   "name": "python3"
  },
  "language_info": {
   "codemirror_mode": {
    "name": "ipython",
    "version": 3
   },
   "file_extension": ".py",
   "mimetype": "text/x-python",
   "name": "python",
   "nbconvert_exporter": "python",
   "pygments_lexer": "ipython3",
   "version": "3.7.3"
  }
 },
 "nbformat": 4,
 "nbformat_minor": 2
}
